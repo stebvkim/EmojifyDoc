{
 "cells": [
  {
   "cell_type": "code",
   "execution_count": 15,
   "id": "3ba7855b",
   "metadata": {},
   "outputs": [],
   "source": [
    "from PIL import Image\n",
    "from PIL import ImageFont\n",
    "from PIL import ImageDraw \n",
    "from pilmoji import Pilmoji\n",
    "\n",
    "img = Image.open(\"test_file_storage\\page_0.jpg\")\n"
   ]
  },
  {
   "cell_type": "code",
   "execution_count": 16,
   "id": "456f6d08",
   "metadata": {},
   "outputs": [
    {
     "name": "stdout",
     "output_type": "stream",
     "text": [
      "1700 2200\n"
     ]
    }
   ],
   "source": [
    "width, height = img.size\n",
    "print(width, height)"
   ]
  },
  {
   "cell_type": "code",
   "execution_count": 17,
   "id": "5ce4089a",
   "metadata": {},
   "outputs": [],
   "source": [
    "draw = ImageDraw.Draw(img)"
   ]
  },
  {
   "cell_type": "code",
   "execution_count": 18,
   "id": "e3ece071",
   "metadata": {},
   "outputs": [],
   "source": [
    "# font = ImageFont.truetype(<font-file>, <font-size>)\n",
    "font = ImageFont.truetype('arial.ttf', 500)"
   ]
  },
  {
   "cell_type": "code",
   "execution_count": 19,
   "id": "41c55bdb",
   "metadata": {},
   "outputs": [],
   "source": [
    "x = \"\\U0001f600\""
   ]
  },
  {
   "cell_type": "code",
   "execution_count": 20,
   "id": "80b9e877",
   "metadata": {},
   "outputs": [],
   "source": [
    "with Pilmoji(img) as pilmoji:\n",
    "    pilmoji.text((200, 200), x, (0, 0, 0), font)"
   ]
  },
  {
   "cell_type": "code",
   "execution_count": 21,
   "id": "3b70e2a7",
   "metadata": {},
   "outputs": [],
   "source": [
    "img.show()"
   ]
  },
  {
   "cell_type": "code",
   "execution_count": 12,
   "id": "e4c4c17d",
   "metadata": {},
   "outputs": [
    {
     "data": {
      "text/plain": [
       "PIL.JpegImagePlugin.JpegImageFile"
      ]
     },
     "execution_count": 12,
     "metadata": {},
     "output_type": "execute_result"
    }
   ],
   "source": [
    "type(img)"
   ]
  },
  {
   "cell_type": "code",
   "execution_count": 14,
   "id": "2f105ea4",
   "metadata": {},
   "outputs": [],
   "source": [
    "# approach one\n",
    "x1 = 500\n",
    "y1 = 500\n",
    "x2 = 800\n",
    "y2 = 800\n",
    "\n",
    "for i in range(x1, x2):\n",
    "    for j in range (y1, y2):\n",
    "        img.putpixel((i, j), (255,255,255))\n",
    "        \n",
    "img.show()"
   ]
  },
  {
   "cell_type": "code",
   "execution_count": 23,
   "id": "78436fcd",
   "metadata": {},
   "outputs": [],
   "source": [
    "# faster approach for inserting white masks\n",
    "\n",
    "img_white = Image.new(\"RGB\", (x2-x1, y2-y1), (255, 255, 255))\n",
    "img.paste(img_white, (500, 500))\n",
    "img.show()"
   ]
  },
  {
   "cell_type": "code",
   "execution_count": null,
   "id": "67c5ca04",
   "metadata": {},
   "outputs": [],
   "source": []
  }
 ],
 "metadata": {
  "kernelspec": {
   "display_name": "Python 3 (ipykernel)",
   "language": "python",
   "name": "python3"
  },
  "language_info": {
   "codemirror_mode": {
    "name": "ipython",
    "version": 3
   },
   "file_extension": ".py",
   "mimetype": "text/x-python",
   "name": "python",
   "nbconvert_exporter": "python",
   "pygments_lexer": "ipython3",
   "version": "3.10.6"
  }
 },
 "nbformat": 4,
 "nbformat_minor": 5
}
